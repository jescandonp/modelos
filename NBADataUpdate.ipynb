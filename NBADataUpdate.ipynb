{
  "nbformat": 4,
  "nbformat_minor": 0,
  "metadata": {
    "colab": {
      "provenance": [],
      "authorship_tag": "ABX9TyOqz/N1yNNbm3gXC+oPLOk+",
      "include_colab_link": true
    },
    "kernelspec": {
      "name": "python3",
      "display_name": "Python 3"
    },
    "language_info": {
      "name": "python"
    }
  },
  "cells": [
    {
      "cell_type": "markdown",
      "metadata": {
        "id": "view-in-github",
        "colab_type": "text"
      },
      "source": [
        "<a href=\"https://colab.research.google.com/github/jescandonp/modelos/blob/main/NBADataUpdate.ipynb\" target=\"_parent\"><img src=\"https://colab.research.google.com/assets/colab-badge.svg\" alt=\"Open In Colab\"/></a>"
      ]
    },
    {
      "cell_type": "code",
      "execution_count": null,
      "metadata": {
        "id": "0aUEiecR98tp"
      },
      "outputs": [],
      "source": []
    },
    {
      "cell_type": "code",
      "source": [
        "import requests\n",
        "import pandas as pd\n",
        "from datetime import datetime\n",
        "\n",
        "# Función para obtener datos de la API\n",
        "def obtener_datos_nba():\n",
        "    # URL de la API (reemplazar con la URL real y parámetros necesarios)\n",
        "    url = \"https://api.nba.com/stats/today\"\n",
        "\n",
        "    # Agregar tu clave de API si es necesario\n",
        "    headers = {\n",
        "        'Authorization': 'Bearer YOUR_API_KEY'\n",
        "    }\n",
        "\n",
        "    # Realizar la solicitud a la API\n",
        "    response = requests.get(url, headers=headers)\n",
        "\n",
        "    # Verifica si la respuesta es exitosa\n",
        "    if response.status_code != 200:\n",
        "        raise Exception(f\"Error al obtener datos de la API: {response.status_code}\")\n",
        "\n",
        "    datos = response.json()\n",
        "\n",
        "    # Aquí deberías procesar los datos JSON y convertirlos en un DataFrame de Pandas\n",
        "    # Esta parte del código dependerá de la estructura exacta de la respuesta de tu API\n",
        "    juegos = datos['games']  # Ejemplo, ajustar según la estructura real\n",
        "    df = pd.DataFrame(juegos)\n",
        "\n",
        "    return df\n",
        "\n",
        "# Función para actualizar el archivo CSV\n",
        "def actualizar_csv():\n",
        "    df = obtener_datos_nba()\n",
        "    fecha_actual = datetime.now().strftime(\"%Y-%m-%d\")\n",
        "    nombre_archivo = f\"datos_nba_{fecha_actual}.csv\"\n",
        "\n",
        "    # Guardar o actualizar el archivo CSV\n",
        "    df.to_csv(nombre_archivo, index=False)\n",
        "\n",
        "# Llama a la función para actualizar los datos\n",
        "try:\n",
        "    actualizar_csv()\n",
        "    print(\"Datos de la NBA actualizados con éxito.\")\n",
        "except Exception as e:\n",
        "    print(f\"Error al actualizar datos: {e}\")\n"
      ],
      "metadata": {
        "id": "86HGd-0l-CMu"
      },
      "execution_count": null,
      "outputs": []
    }
  ]
}